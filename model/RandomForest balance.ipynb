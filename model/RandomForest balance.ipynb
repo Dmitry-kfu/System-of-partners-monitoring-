{
 "cells": [
  {
   "cell_type": "code",
   "execution_count": 1,
   "metadata": {},
   "outputs": [],
   "source": [
    "import pandas as pd\n",
    "import numpy as np\n",
    "import matplotlib.pyplot as plt\n",
    "from sklearn.model_selection import train_test_split\n",
    "from imblearn.over_sampling import SMOTE\n",
    "import pickle"
   ]
  },
  {
   "cell_type": "code",
   "execution_count": 2,
   "metadata": {},
   "outputs": [],
   "source": [
    "df = pd.read_excel('C:/Users/Администратор/Desktop/Учеба КФУ/Диплом/ИАД/table_new_2.xlsx')"
   ]
  },
  {
   "cell_type": "code",
   "execution_count": 3,
   "metadata": {},
   "outputs": [
    {
     "data": {
      "text/plain": [
       "(11974, 12)"
      ]
     },
     "execution_count": 3,
     "metadata": {},
     "output_type": "execute_result"
    }
   ],
   "source": [
    "df.shape"
   ]
  },
  {
   "cell_type": "code",
   "execution_count": 4,
   "metadata": {},
   "outputs": [],
   "source": [
    "df1=df._get_numeric_data()"
   ]
  },
  {
   "cell_type": "code",
   "execution_count": 5,
   "metadata": {},
   "outputs": [],
   "source": [
    "df2= df1.fillna(0)"
   ]
  },
  {
   "cell_type": "code",
   "execution_count": 6,
   "metadata": {},
   "outputs": [
    {
     "data": {
      "text/html": [
       "<div>\n",
       "<style scoped>\n",
       "    .dataframe tbody tr th:only-of-type {\n",
       "        vertical-align: middle;\n",
       "    }\n",
       "\n",
       "    .dataframe tbody tr th {\n",
       "        vertical-align: top;\n",
       "    }\n",
       "\n",
       "    .dataframe thead th {\n",
       "        text-align: right;\n",
       "    }\n",
       "</style>\n",
       "<table border=\"1\" class=\"dataframe\">\n",
       "  <thead>\n",
       "    <tr style=\"text-align: right;\">\n",
       "      <th></th>\n",
       "      <th>Сводный индикатор</th>\n",
       "      <th>2020, Внеоборотные активы, RUB</th>\n",
       "      <th>2020, Оборотные активы, RUB</th>\n",
       "      <th>2020, Активы  всего, RUB</th>\n",
       "      <th>2020, Уставный капитал , RUB</th>\n",
       "      <th>2020, Капитал и резервы, RUB</th>\n",
       "      <th>2020, Долгосрочные обязательства, RUB</th>\n",
       "      <th>2020, Краткосрочные обязательства, RUB</th>\n",
       "      <th>2020, Выручка, RUB</th>\n",
       "      <th>2020, Чистая прибыль (убыток), RUB</th>\n",
       "    </tr>\n",
       "  </thead>\n",
       "  <tbody>\n",
       "    <tr>\n",
       "      <th>0</th>\n",
       "      <td>0</td>\n",
       "      <td>0.0</td>\n",
       "      <td>1.845000e+06</td>\n",
       "      <td>1.845000e+06</td>\n",
       "      <td>0.0</td>\n",
       "      <td>1701000.0</td>\n",
       "      <td>0.0</td>\n",
       "      <td>1.440000e+05</td>\n",
       "      <td>4.423000e+06</td>\n",
       "      <td>1302000.0</td>\n",
       "    </tr>\n",
       "    <tr>\n",
       "      <th>1</th>\n",
       "      <td>0</td>\n",
       "      <td>0.0</td>\n",
       "      <td>1.900000e+06</td>\n",
       "      <td>1.900000e+06</td>\n",
       "      <td>10000.0</td>\n",
       "      <td>1584000.0</td>\n",
       "      <td>0.0</td>\n",
       "      <td>3.160000e+05</td>\n",
       "      <td>1.029200e+07</td>\n",
       "      <td>1479000.0</td>\n",
       "    </tr>\n",
       "    <tr>\n",
       "      <th>2</th>\n",
       "      <td>0</td>\n",
       "      <td>2666000.0</td>\n",
       "      <td>1.055700e+07</td>\n",
       "      <td>1.322300e+07</td>\n",
       "      <td>0.0</td>\n",
       "      <td>4015000.0</td>\n",
       "      <td>0.0</td>\n",
       "      <td>9.208000e+06</td>\n",
       "      <td>9.333800e+07</td>\n",
       "      <td>3085000.0</td>\n",
       "    </tr>\n",
       "    <tr>\n",
       "      <th>3</th>\n",
       "      <td>1</td>\n",
       "      <td>0.0</td>\n",
       "      <td>0.000000e+00</td>\n",
       "      <td>0.000000e+00</td>\n",
       "      <td>0.0</td>\n",
       "      <td>0.0</td>\n",
       "      <td>0.0</td>\n",
       "      <td>0.000000e+00</td>\n",
       "      <td>0.000000e+00</td>\n",
       "      <td>0.0</td>\n",
       "    </tr>\n",
       "    <tr>\n",
       "      <th>4</th>\n",
       "      <td>0</td>\n",
       "      <td>4444000.0</td>\n",
       "      <td>4.405974e+09</td>\n",
       "      <td>4.410418e+09</td>\n",
       "      <td>10000.0</td>\n",
       "      <td>15731000.0</td>\n",
       "      <td>16161000.0</td>\n",
       "      <td>4.378526e+09</td>\n",
       "      <td>3.468473e+09</td>\n",
       "      <td>1368000.0</td>\n",
       "    </tr>\n",
       "  </tbody>\n",
       "</table>\n",
       "</div>"
      ],
      "text/plain": [
       "   Сводный индикатор  2020, Внеоборотные активы, RUB  \\\n",
       "0                  0                             0.0   \n",
       "1                  0                             0.0   \n",
       "2                  0                       2666000.0   \n",
       "3                  1                             0.0   \n",
       "4                  0                       4444000.0   \n",
       "\n",
       "   2020, Оборотные активы, RUB  2020, Активы  всего, RUB  \\\n",
       "0                 1.845000e+06              1.845000e+06   \n",
       "1                 1.900000e+06              1.900000e+06   \n",
       "2                 1.055700e+07              1.322300e+07   \n",
       "3                 0.000000e+00              0.000000e+00   \n",
       "4                 4.405974e+09              4.410418e+09   \n",
       "\n",
       "   2020, Уставный капитал , RUB  2020, Капитал и резервы, RUB  \\\n",
       "0                           0.0                     1701000.0   \n",
       "1                       10000.0                     1584000.0   \n",
       "2                           0.0                     4015000.0   \n",
       "3                           0.0                           0.0   \n",
       "4                       10000.0                    15731000.0   \n",
       "\n",
       "   2020, Долгосрочные обязательства, RUB  \\\n",
       "0                                    0.0   \n",
       "1                                    0.0   \n",
       "2                                    0.0   \n",
       "3                                    0.0   \n",
       "4                             16161000.0   \n",
       "\n",
       "   2020, Краткосрочные обязательства, RUB  2020, Выручка, RUB  \\\n",
       "0                            1.440000e+05        4.423000e+06   \n",
       "1                            3.160000e+05        1.029200e+07   \n",
       "2                            9.208000e+06        9.333800e+07   \n",
       "3                            0.000000e+00        0.000000e+00   \n",
       "4                            4.378526e+09        3.468473e+09   \n",
       "\n",
       "   2020, Чистая прибыль (убыток), RUB  \n",
       "0                           1302000.0  \n",
       "1                           1479000.0  \n",
       "2                           3085000.0  \n",
       "3                                 0.0  \n",
       "4                           1368000.0  "
      ]
     },
     "execution_count": 6,
     "metadata": {},
     "output_type": "execute_result"
    }
   ],
   "source": [
    "df2.head(5)"
   ]
  },
  {
   "cell_type": "code",
   "execution_count": 7,
   "metadata": {},
   "outputs": [],
   "source": [
    "df3 = df2.astype(int)"
   ]
  },
  {
   "cell_type": "code",
   "execution_count": 8,
   "metadata": {},
   "outputs": [
    {
     "name": "stdout",
     "output_type": "stream",
     "text": [
      "<class 'pandas.core.frame.DataFrame'>\n",
      "RangeIndex: 11974 entries, 0 to 11973\n",
      "Data columns (total 10 columns):\n",
      " #   Column                                  Non-Null Count  Dtype\n",
      "---  ------                                  --------------  -----\n",
      " 0   Сводный индикатор                       11974 non-null  int32\n",
      " 1   2020, Внеоборотные активы, RUB          11974 non-null  int32\n",
      " 2   2020, Оборотные активы, RUB             11974 non-null  int32\n",
      " 3   2020, Активы  всего, RUB                11974 non-null  int32\n",
      " 4   2020, Уставный капитал , RUB            11974 non-null  int32\n",
      " 5   2020, Капитал и резервы, RUB            11974 non-null  int32\n",
      " 6   2020, Долгосрочные обязательства, RUB   11974 non-null  int32\n",
      " 7   2020, Краткосрочные обязательства, RUB  11974 non-null  int32\n",
      " 8   2020, Выручка, RUB                      11974 non-null  int32\n",
      " 9   2020, Чистая прибыль (убыток), RUB      11974 non-null  int32\n",
      "dtypes: int32(10)\n",
      "memory usage: 467.9 KB\n"
     ]
    }
   ],
   "source": [
    "df3.info()"
   ]
  },
  {
   "cell_type": "code",
   "execution_count": 9,
   "metadata": {},
   "outputs": [],
   "source": [
    "target_variable_name = 'Сводный индикатор'\n",
    "training_values = df3[target_variable_name]\n",
    "training_points = df3.drop(target_variable_name, axis=1)"
   ]
  },
  {
   "cell_type": "code",
   "execution_count": 10,
   "metadata": {},
   "outputs": [],
   "source": [
    "sm = SMOTE()"
   ]
  },
  {
   "cell_type": "code",
   "execution_count": 11,
   "metadata": {},
   "outputs": [],
   "source": [
    "X, y = sm.fit_resample(training_points, training_values)"
   ]
  },
  {
   "cell_type": "code",
   "execution_count": 12,
   "metadata": {},
   "outputs": [],
   "source": [
    "X_train, X_test, y_train, y_test = train_test_split(X, y, train_size=0.7)"
   ]
  },
  {
   "cell_type": "code",
   "execution_count": 13,
   "metadata": {},
   "outputs": [],
   "source": [
    "from sklearn.ensemble import RandomForestClassifier"
   ]
  },
  {
   "cell_type": "code",
   "execution_count": 14,
   "metadata": {},
   "outputs": [],
   "source": [
    "forest = RandomForestClassifier()"
   ]
  },
  {
   "cell_type": "code",
   "execution_count": 15,
   "metadata": {},
   "outputs": [],
   "source": [
    "random_forest_model=forest.fit(X_train, y_train)"
   ]
  },
  {
   "cell_type": "code",
   "execution_count": 16,
   "metadata": {},
   "outputs": [
    {
     "data": {
      "text/plain": [
       "array([0, 0, 1, ..., 1, 0, 1])"
      ]
     },
     "execution_count": 16,
     "metadata": {},
     "output_type": "execute_result"
    }
   ],
   "source": [
    "pred = random_forest_model.predict(X_test)\n",
    "pred"
   ]
  },
  {
   "cell_type": "code",
   "execution_count": 20,
   "metadata": {},
   "outputs": [],
   "source": [
    "from sklearn.metrics import f1_score"
   ]
  },
  {
   "cell_type": "code",
   "execution_count": 21,
   "metadata": {},
   "outputs": [
    {
     "data": {
      "text/plain": [
       "0.8988907849829352"
      ]
     },
     "execution_count": 21,
     "metadata": {},
     "output_type": "execute_result"
    }
   ],
   "source": [
    "f1_score = f1_score(y_test, pred)\n",
    "f1_score"
   ]
  },
  {
   "cell_type": "code",
   "execution_count": 25,
   "metadata": {},
   "outputs": [],
   "source": [
    "from sklearn.metrics import roc_curve, auc\n",
    "from sklearn.metrics import roc_auc_score\n",
    "from sklearn.metrics import log_loss"
   ]
  },
  {
   "cell_type": "code",
   "execution_count": 23,
   "metadata": {},
   "outputs": [
    {
     "data": {
      "text/plain": [
       "0.8970073271958032"
      ]
     },
     "execution_count": 23,
     "metadata": {},
     "output_type": "execute_result"
    }
   ],
   "source": [
    "auc = roc_auc_score(y_test, pred)\n",
    "auc"
   ]
  },
  {
   "cell_type": "code",
   "execution_count": 26,
   "metadata": {},
   "outputs": [],
   "source": [
    "fpr, tpr, treshold = roc_curve(y_test, pred)\n",
    "roc_auc = auc(fpr, tpr)"
   ]
  },
  {
   "cell_type": "code",
   "execution_count": 27,
   "metadata": {},
   "outputs": [
    {
     "data": {
      "image/png": "[encoded data removed]",
      "text/plain": [
       "<Figure size 432x288 with 1 Axes>"
      ]
     },
     "metadata": {
      "needs_background": "light"
     },
     "output_type": "display_data"
    }
   ],
   "source": [
    "plt.plot(fpr, tpr, color='darkorange',\n",
    "         label='ROC кривая (area = %0.2f)' % roc_auc)\n",
    "plt.plot([0, 1], [0, 1], color='navy', linestyle='--')\n",
    "plt.xlim([0.0, 1.0])\n",
    "plt.ylim([0.0, 1.05])\n",
    "plt.xlabel('False Positive Rate')\n",
    "plt.ylabel('True Positive Rate')\n",
    "plt.title('ROC-кривая')\n",
    "plt.legend(loc=\"lower right\")\n",
    "plt.show()"
   ]
  },
  {
   "cell_type": "markdown",
   "metadata": {},
   "source": [
    "Случайный лес"
   ]
  },
  {
   "cell_type": "code",
   "execution_count": null,
   "metadata": {},
   "outputs": [],
   "source": [
    "with open('forestbezssch2.pickle', 'wb') as f:\n",
    "    pickle.dump(forest, f)"
   ]
  }
 ],
 "metadata": {
  "kernelspec": {
   "display_name": "Python 3",
   "language": "python",
   "name": "python3"
  },
  "language_info": {
   "codemirror_mode": {
    "name": "ipython",
    "version": 3
   },
   "file_extension": ".py",
   "mimetype": "text/x-python",
   "name": "python",
   "nbconvert_exporter": "python",
   "pygments_lexer": "ipython3",
   "version": "3.7.6"
  }
 },
 "nbformat": 4,
 "nbformat_minor": 4
}
